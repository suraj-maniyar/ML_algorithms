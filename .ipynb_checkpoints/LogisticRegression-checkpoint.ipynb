{
 "cells": [
  {
   "cell_type": "code",
   "execution_count": 1,
   "metadata": {},
   "outputs": [],
   "source": [
    "import numpy as np\n",
    "import matplotlib.pyplot as plt\n",
    "from time import sleep"
   ]
  },
  {
   "cell_type": "code",
   "execution_count": 2,
   "metadata": {},
   "outputs": [
    {
     "name": "stdout",
     "output_type": "stream",
     "text": [
      "(2, 80)\n",
      "(1, 80)\n"
     ]
    }
   ],
   "source": [
    "length = 100\n",
    "percent = 0.2\n",
    "\n",
    "half_len = int(length/2)\n",
    "dim = 2\n",
    "\n",
    "mean1 = [7,7]     # class-1 \n",
    "mean2 = [13,13]   # class-2 \n",
    "cov = [[4, 0], [0, 4]]\n",
    "\n",
    "\n",
    "x1 = np.random.multivariate_normal(mean1, cov, half_len)\n",
    "x2 = np.random.multivariate_normal(mean2, cov, half_len)\n",
    "y1 = np.ones(half_len)\n",
    "y2 = np.zeros(half_len)\n",
    "\n",
    "x = np.append(x1,x2, axis=0)\n",
    "y = np.append(y1,y2, axis=0)\n",
    "\n",
    "\n",
    "# Shuffle the data\n",
    "perm = np.random.permutation(length)\n",
    "x = x[perm]\n",
    "y = y[perm]\n",
    "\n",
    "# Divide into train and test \n",
    "x_train = x[0   :   int(length*(1-percent))]\n",
    "y_train = y[0   :   int(length*(1-percent))]\n",
    "x_test = x[int(length*percent)   :   ]\n",
    "y_test = y[int(length*percent)   :   ]\n",
    "\n",
    "len_train = x_train.shape[0]\n",
    "len_test = x_test.shape[0]\n",
    "\n",
    "x_train = x_train.T\n",
    "x_test = x_test.T\n",
    "\n",
    "y_train = np.expand_dims(y_train, axis=0)\n",
    "y_test = np.expand_dims(y_test, axis=0)\n",
    "\n",
    "print(x_train.shape)\n",
    "print(y_train.shape)"
   ]
  },
  {
   "cell_type": "code",
   "execution_count": 3,
   "metadata": {},
   "outputs": [
    {
     "data": {
      "image/png": "[encoded data removed]",
      "text/plain": [
       "<Figure size 432x288 with 1 Axes>"
      ]
     },
     "metadata": {},
     "output_type": "display_data"
    }
   ],
   "source": [
    "for i in range(len_train):\n",
    "    if(y_train[0,i] == 1):\n",
    "        plt.scatter(x_train[0,i], x_train[1,i], color='red')\n",
    "    elif(y_train[0,i] == 0):\n",
    "        plt.scatter(x_train[0,i], x_train[1,i], color='blue')"
   ]
  },
  {
   "cell_type": "code",
   "execution_count": 4,
   "metadata": {},
   "outputs": [],
   "source": [
    "class LogisticRegression : \n",
    "    def __init__(self, x ,y, lr=0.001, reg=0.001):\n",
    "        self.x = x\n",
    "        self.y = y\n",
    "        self.lr = lr\n",
    "        self.reg = reg\n",
    "        self.dim = self.x.shape[0]\n",
    "        self.length = self.x.shape[1]\n",
    "        self.w = np.random.random((dim, 1))\n",
    "        self.b = 5\n",
    "    \n",
    "    def sigmoid(self, x):\n",
    "        return 1 / (1 + np.exp(-x))\n",
    "    \n",
    "    def sigmoid_prime(self, x):\n",
    "        return self.sigmoid(x) * (1 - self.sigmoid(x))\n",
    "        \n",
    "    def forward(self, x):\n",
    "        return np.dot(self.w.T, x) + self.b\n",
    "    \n",
    "    def forward_prob(self, x):\n",
    "        return self.sigmoid( self.forward(x) )\n",
    "    \n",
    "    def weight_derivative(self):\n",
    "        ycap = self.forward_prob(self.x)\n",
    "        return -(1/self.length) * np.dot( self.x, (self.y-ycap).T ) + self.reg * self.w\n",
    "    \n",
    "    def bias_derivative(self): \n",
    "        ycap = self.forward_prob(self.x)\n",
    "        return (1/self.length)*np.sum( ycap - self.y )\n",
    "    \n",
    "    def update(self):\n",
    "        del_W = self.weight_derivative()\n",
    "        del_b = self.bias_derivative()\n",
    "        self.w = self.w - self.lr * del_W\n",
    "        self.b = self.b - self.lr * del_b\n",
    "    \n",
    "    def cost(self, y, yhat):\n",
    "        # Cross Entropy Loss\n",
    "        J = (1/self.length) * (-self.y*np.log(yhat) - (1-self.y)*np.log(1-yhat)) + self.reg * np.sum(self.w * self.w)\n",
    "        return np.sum(J)"
   ]
  },
  {
   "cell_type": "code",
   "execution_count": 5,
   "metadata": {},
   "outputs": [
    {
     "name": "stdout",
     "output_type": "stream",
     "text": [
      "train:  3.521340458066833 test:  3.3586282698016827\n",
      "train:  3.4404347837996268 test:  3.2905175579464814\n",
      "train:  3.3597002690953683 test:  3.222575091065627\n",
      "train:  3.279142932424289 test:  3.1548066269690747\n",
      "train:  3.1987696987071166 test:  3.0872188062328556\n",
      "train:  3.1185885420488306 test:  3.0198192931163126\n",
      "train:  3.0386086510776282 test:  2.9526169390344696\n",
      "train:  2.9588406202604327 test:  2.885621971975257\n",
      "train:  2.8792966709586207 test:  2.8188462156468286\n",
      "train:  2.799990906375344 test:  2.752303342528201\n",
      "train:  2.720939604902222 test:  2.6860091653506113\n",
      "train:  2.6421615566579817 test:  2.619981971812975\n",
      "train:  2.563678448164983 test:  2.554242907470735\n",
      "train:  2.4855153000488595 test:  2.488816411644347\n",
      "train:  2.4077009622554852 test:  2.423730710749375\n",
      "train:  2.330268670402835 test:  2.3590183724894684\n",
      "train:  2.2532566653176955 test:  2.294716922658857\n",
      "train:  2.1767088752875843 test:  2.2308695235961222\n",
      "train:  2.10067565676422 test:  2.167525709275118\n",
      "train:  2.025214583810045 test:  2.1047421662161385\n",
      "train:  1.950391269072918 test:  2.0425835414219207\n",
      "train:  1.8762801891107832 test:  1.981123247982959\n",
      "train:  1.802965474177259 test:  1.9204442255710497\n",
      "train:  1.7305416070820419 test:  1.8606395967490725\n",
      "train:  1.659113957886433 test:  1.8018131413893532\n",
      "train:  1.5887990621682886 test:  1.7440794918627591\n",
      "train:  1.5197245326543571 test:  1.6875639335600694\n",
      "train:  1.452028480788853 test:  1.632401682718406\n",
      "train:  1.3858583213314701 test:  1.578736511935151\n",
      "train:  1.3213688454661483 test:  1.5267186097054322\n",
      "train:  1.2587194822718222 test:  1.4765016002098936\n",
      "train:  1.1980707289946015 test:  1.4282387175372497\n",
      "train:  1.1395798171866574 test:  1.3820782236423002\n",
      "train:  1.083395787377953 test:  1.338158273052597\n",
      "train:  1.0296542544282206 test:  1.2966015423642585\n",
      "train:  0.9784722374525605 test:  1.2575100348586528\n",
      "train:  0.9299434788743985 test:  1.2209605148731857\n",
      "train:  0.8841346687577701 test:  1.1870010044262111\n",
      "train:  0.8410829173294878 test:  1.1556486818407752\n",
      "train:  0.8007946903200482 test:  1.1268893721258528\n",
      "train:  0.7632462618260947 test:  1.100678639760625\n",
      "train:  0.7283855780868982 test:  1.0769443209198999\n",
      "train:  0.6961352913417741 test:  1.055590195164641\n",
      "train:  0.6663966353169916 test:  1.0365004158151079\n",
      "train:  0.6390537800604863 test:  1.0195442985427934\n",
      "train:  0.6139783193426689 test:  1.0045811010353896\n",
      "train:  0.5910335961638301 test:  0.9914644965712682\n",
      "train:  0.5700786451483366 test:  0.9800465321198397\n",
      "train:  0.5509716095927555 test:  0.9701809504004906\n",
      "train:  0.5335725639318356 test:  0.961725833201319\n",
      "train:  0.5177457321590399 test:  0.954545583669113\n",
      "train:  0.5033611363186233 test:  0.9485123064748515\n",
      "train:  0.49029573686641414 test:  0.9435066683061815\n",
      "train:  0.4784341407818139 test:  0.939418330429249\n",
      "train:  0.46766895699880673 test:  0.9361460440666707\n",
      "train:  0.4579008752727548 test:  0.9335974917832988\n",
      "train:  0.4490385368584452 test:  0.931688947011498\n",
      "train:  0.44099825556111605 test:  0.9303448115319728\n",
      "train:  0.43370363740360574 test:  0.9294970786481087\n",
      "train:  0.42708513732933695 test:  0.9290847588269959\n",
      "train:  0.4210795825895641 test:  0.9290532951489033\n",
      "train:  0.41562968498526054 test:  0.9293539881222238\n",
      "train:  0.41068355798382405 test:  0.9299434432091127\n",
      "train:  0.40619424982118046 test:  0.9307830495950979\n",
      "train:  0.4021192998819512 test:  0.9318384951104852\n",
      "train:  0.39842032275323513 test:  0.9330793195553991\n",
      "train:  0.39506262220242916 test:  0.9344785067935039\n",
      "train:  0.39201483578274743 test:  0.9360121146878417\n",
      "train:  0.38924860968897745 test:  0.9376589411108824\n",
      "train:  0.3867383027601179 test:  0.9394002237527775\n",
      "train:  0.38446071806550874 test:  0.9412193711848624\n",
      "train:  0.38239486024620467 test:  0.9431017225386646\n",
      "train:  0.38052171665876583 test:  0.9450343331803234\n",
      "train:  0.3788240603424239 test:  0.9470057838565025\n",
      "train:  0.3772862728712125 test:  0.9490060109314093\n",
      "train:  0.3758941852367513 test:  0.9510261555044935\n",
      "train:  0.3746349350179288 test:  0.9530584293801371\n",
      "train:  0.3734968382185033 test:  0.9550959960440968\n",
      "train:  0.3724692742840673 test:  0.9571328649800168\n",
      "train:  0.37154258294001513 test:  0.9591637978288068\n",
      "train:  0.37070797161822977 test:  0.9611842250517059\n",
      "train:  0.3699574323597302 test:  0.9631901719032125\n",
      "train:  0.36928366719208117 test:  0.9651781926524458\n",
      "train:  0.368680021083291 test:  0.967145312111126\n",
      "train:  0.36814042166803734 test:  0.9690889736337933\n",
      "train:  0.36765932502752147 test:  0.9710069928519012\n",
      "train:  0.3672316668814309 test:  0.9728975164889259\n",
      "train:  0.3668528186199091 test:  0.974758985679548\n",
      "train:  0.36651854766564185 test:  0.9765901032831938\n",
      "train:  0.36622498171178497 test:  0.9783898047416857\n",
      "train:  0.3659685764310784 test:  0.9801572320832479\n",
      "train:  0.3657460862956819 test:  0.9818917107214298\n",
      "train:  0.3655545381865902 test:  0.9835927287383319\n",
      "train:  0.3653912075064307 test:  0.9852599183775013\n",
      "train:  0.3652535965405039 test:  0.9868930395035536\n",
      "train:  0.3651394148384975 test:  0.9884919648135011\n",
      "train:  0.3650465614137933 test:  0.9900566666093611\n",
      "train:  0.3649731085790278 test:  0.9915872049632972\n",
      "train:  0.3649172872558757 test:  0.9930837171256504\n",
      "train:  0.36487747361418066 test:  0.9945464080430664\n"
     ]
    },
    {
     "data": {
      "text/plain": [
       "[<matplotlib.lines.Line2D at 0x7fceed144160>]"
      ]
     },
     "execution_count": 5,
     "metadata": {},
     "output_type": "execute_result"
    },
    {
     "data": {
      "image/png": "[encoded data removed]",
      "text/plain": [
       "<Figure size 432x288 with 1 Axes>"
      ]
     },
     "metadata": {},
     "output_type": "display_data"
    }
   ],
   "source": [
    "rate = 1e-3\n",
    "reg = 1e-2\n",
    "lr = LogisticRegression(x_train, y_train, rate, reg)\n",
    "\n",
    "x1 = np.linspace(0,20)\n",
    "\n",
    "cost_train = []\n",
    "cost_test = []\n",
    "for i in range(100):\n",
    "    yhat_train = lr.forward_prob(x_train)\n",
    "    c_train = lr.cost(y_train, yhat_train)\n",
    "    yhat_test = lr.forward_prob(x_test)\n",
    "    c_test = lr.cost(y_train, yhat_test)\n",
    "    print('train: ', c_train, 'test: ', c_test)\n",
    "    \n",
    "    cost_train.append(c_train)\n",
    "    cost_test.append(c_test)\n",
    "    \n",
    "    lr.update()\n",
    "\n",
    "plt.plot(cost_train)\n",
    "plt.plot(cost_test)"
   ]
  },
  {
   "cell_type": "code",
   "execution_count": null,
   "metadata": {},
   "outputs": [],
   "source": []
  },
  {
   "cell_type": "code",
   "execution_count": 10,
   "metadata": {},
   "outputs": [
    {
     "data": {
      "text/plain": [
       "[<matplotlib.lines.Line2D at 0x7fceecefe668>]"
      ]
     },
     "execution_count": 10,
     "metadata": {},
     "output_type": "execute_result"
    },
    {
     "data": {
      "image/png": "[encoded data removed]",
      "text/plain": [
       "<Figure size 432x288 with 1 Axes>"
      ]
     },
     "metadata": {},
     "output_type": "display_data"
    }
   ],
   "source": [
    "x1 = np.linspace(4,18)\n",
    "x2 = (-1/lr.w[1,0]) * (lr.b + lr.w[0,0]*x1)\n",
    "\n",
    "for i in range(len_train):\n",
    "    if(y_train[0,i] == 1):\n",
    "        plt.scatter(x_train[0,i], x_train[1,i], color='red')\n",
    "    elif(y_train[0,i] == 0):\n",
    "        plt.scatter(x_train[0,i], x_train[1,i], color='blue')\n",
    "plt.plot(x1,x2)"
   ]
  },
  {
   "cell_type": "code",
   "execution_count": null,
   "metadata": {},
   "outputs": [],
   "source": []
  }
 ],
 "metadata": {
  "kernelspec": {
   "display_name": "Python 3",
   "language": "python",
   "name": "python3"
  },
  "language_info": {
   "codemirror_mode": {
    "name": "ipython",
    "version": 3
   },
   "file_extension": ".py",
   "mimetype": "text/x-python",
   "name": "python",
   "nbconvert_exporter": "python",
   "pygments_lexer": "ipython3",
   "version": "3.5.2"
  }
 },
 "nbformat": 4,
 "nbformat_minor": 2
}
