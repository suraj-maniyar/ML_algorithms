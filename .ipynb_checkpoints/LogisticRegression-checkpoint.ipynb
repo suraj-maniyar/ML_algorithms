{
 "cells": [
  {
   "cell_type": "code",
   "execution_count": 1,
   "metadata": {},
   "outputs": [],
   "source": [
    "import numpy as np\n",
    "import matplotlib.pyplot as plt\n",
    "from time import sleep"
   ]
  },
  {
   "cell_type": "code",
   "execution_count": 33,
   "metadata": {},
   "outputs": [
    {
     "name": "stdout",
     "output_type": "stream",
     "text": [
      "(2, 80)\n",
      "(1, 80)\n"
     ]
    }
   ],
   "source": [
    "length = 100\n",
    "percent = 0.2\n",
    "\n",
    "half_len = int(length/2)\n",
    "dim = 2\n",
    "\n",
    "mean1 = [7,13]     # class-1 \n",
    "mean2 = [13,7]   # class-2 \n",
    "cov = [[4, 0], [0, 4]]\n",
    "\n",
    "\n",
    "x1 = np.random.multivariate_normal(mean1, cov, half_len)\n",
    "x2 = np.random.multivariate_normal(mean2, cov, half_len)\n",
    "y1 = np.ones(half_len)\n",
    "y2 = np.zeros(half_len)\n",
    "\n",
    "x = np.append(x1,x2, axis=0)\n",
    "y = np.append(y1,y2, axis=0)\n",
    "\n",
    "\n",
    "# Shuffle the data\n",
    "perm = np.random.permutation(length)\n",
    "x = x[perm]\n",
    "y = y[perm]\n",
    "\n",
    "# Divide into train and test \n",
    "x_train = x[0   :   int(length*(1-percent))]\n",
    "y_train = y[0   :   int(length*(1-percent))]\n",
    "x_test = x[int(length*percent)   :   ]\n",
    "y_test = y[int(length*percent)   :   ]\n",
    "\n",
    "len_train = x_train.shape[0]\n",
    "len_test = x_test.shape[0]\n",
    "\n",
    "x_train = x_train.T\n",
    "x_test = x_test.T\n",
    "\n",
    "y_train = np.expand_dims(y_train, axis=0)\n",
    "y_test = np.expand_dims(y_test, axis=0)\n",
    "\n",
    "print(x_train.shape)\n",
    "print(y_train.shape)"
   ]
  },
  {
   "cell_type": "code",
   "execution_count": 22,
   "metadata": {},
   "outputs": [
    {
     "data": {
      "image/png": "[encoded data removed]",
      "text/plain": [
       "<Figure size 432x288 with 1 Axes>"
      ]
     },
     "metadata": {},
     "output_type": "display_data"
    }
   ],
   "source": [
    "for i in range(len_train):\n",
    "    if(y_train[0,i] == 1):\n",
    "        plt.scatter(x_train[0,i], x_train[1,i], color='red')\n",
    "    elif(y_train[0,i] == 0):\n",
    "        plt.scatter(x_train[0,i], x_train[1,i], color='blue')"
   ]
  },
  {
   "cell_type": "code",
   "execution_count": 23,
   "metadata": {},
   "outputs": [],
   "source": [
    "class LogisticRegression : \n",
    "    def __init__(self, x ,y, lr=0.001, reg=0.001):\n",
    "        self.x = x\n",
    "        self.y = y\n",
    "        self.lr = lr\n",
    "        self.reg = reg\n",
    "        self.dim = self.x.shape[0]\n",
    "        self.length = self.x.shape[1]\n",
    "        self.w = np.random.random((dim, 1))\n",
    "        self.b = 5\n",
    "    \n",
    "    def sigmoid(self, x):\n",
    "        return 1 / (1 + np.exp(-x))\n",
    "    \n",
    "    def sigmoid_prime(self, x):\n",
    "        return self.sigmoid(x) * (1 - self.sigmoid(x))\n",
    "        \n",
    "    def forward(self, x):\n",
    "        return np.dot(self.w.T, x) + self.b\n",
    "    \n",
    "    def forward_prob(self, x):\n",
    "        return self.sigmoid( self.forward(x) )\n",
    "    \n",
    "    def weight_derivative(self):\n",
    "        ycap = self.forward_prob(self.x)\n",
    "        return -(1/self.length) * np.dot( self.x, (self.y-ycap).T ) + self.reg * self.w\n",
    "    \n",
    "    def bias_derivative(self): \n",
    "        ycap = self.forward_prob(self.x)\n",
    "        return (1/self.length)*np.sum( ycap - self.y )\n",
    "    \n",
    "    def update(self):\n",
    "        del_W = self.weight_derivative()\n",
    "        del_b = self.bias_derivative()\n",
    "        self.w = self.w - self.lr * del_W\n",
    "        self.b = self.b - self.lr * del_b\n",
    "    \n",
    "    def cost(self, y, yhat):\n",
    "        # Cross Entropy Loss\n",
    "        J = (1/self.length) * (-self.y*np.log(yhat) - (1-self.y)*np.log(1-yhat)) + self.reg * np.sum(self.w * self.w)\n",
    "        return np.sum(J)"
   ]
  },
  {
   "cell_type": "code",
   "execution_count": 40,
   "metadata": {},
   "outputs": [
    {
     "name": "stdout",
     "output_type": "stream",
     "text": [
      "train:  4.2437370727847785 test:  4.547340612199789\n",
      "train:  4.183063654230778 test:  4.490626643279343\n",
      "train:  4.122487974598769 test:  4.43401030954135\n",
      "train:  4.062010565355807 test:  4.377492135488601\n",
      "train:  4.001632021826996 test:  4.32107270880732\n",
      "train:  3.9413530109804995 test:  4.264752688094456\n",
      "train:  3.8811742801773206 test:  4.208532811545401\n",
      "train:  3.821096667003558 test:  4.152413906720093\n",
      "train:  3.761121110322625 test:  4.096396901524794\n",
      "train:  3.7012486626969126 test:  4.040482836557627\n",
      "train:  3.641480504349473 test:  3.9846728789901746\n",
      "train:  3.581817958855444 test:  3.928968338172503\n",
      "train:  3.5222625107760845 test:  3.873370683175806\n",
      "train:  3.4628158254731156 test:  3.8178815625088633\n",
      "train:  3.4034797713683123 test:  3.7625028262728835\n",
      "train:  3.3442564449436576 test:  3.7072365510502\n",
      "train:  3.2851481988102034 test:  3.6520850678529126\n",
      "train:  3.226157673208709 test:  3.5970509934942148\n",
      "train:  3.1672878313435806 test:  3.542137265782057\n",
      "train:  3.1085419989916896 test:  3.487347182975087\n",
      "train:  3.049923908869687 test:  3.4326844479812673\n",
      "train:  2.991437750286749 test:  3.378153217823299\n",
      "train:  2.9330882246530257 test:  3.3237581589359895\n",
      "train:  2.8748806074557796 test:  3.269504508901681\n",
      "train:  2.8168208173538094 test:  3.2153981452666964\n",
      "train:  2.7589154930725748 test:  3.161445662110611\n",
      "train:  2.701172078804501 test:  3.107654455059955\n",
      "train:  2.643598918825644 test:  3.05403281544063\n",
      "train:  2.5862053620254883 test:  3.0005900342443814\n",
      "train:  2.5290018770022895 test:  2.947336516534831\n",
      "train:  2.4720001782925687 test:  2.8942839068281843\n",
      "train:  2.4152133641670237 test:  2.8414452258390153\n",
      "train:  2.3586560662212284 test:  2.7888350187689093\n",
      "train:  2.3023446106998073 test:  2.7364695150147886\n",
      "train:  2.246297191096242 test:  2.6843667987659963\n",
      "train:  2.1905340510436133 test:  2.6325469894189406\n",
      "train:  2.135077675828695 test:  2.581032430042584\n",
      "train:  2.079952989997541 test:  2.529847881250914\n",
      "train:  2.0251875574514053 test:  2.479020716758843\n",
      "train:  1.9708117791404245 test:  2.428581115599572\n",
      "train:  1.9168590819433464 test:  2.3785622444622367\n",
      "train:  1.8633660905887774 test:  2.329000421884819\n",
      "train:  1.8103727725691043 test:  2.2799352541558764\n",
      "train:  1.757922544005105 test:  2.231409730825401\n",
      "train:  1.7060623224707239 test:  2.1834702658385527\n",
      "train:  1.6548425110790221 test:  2.1361666686840435\n",
      "train:  1.6043168969238832 test:  2.089552028856063\n",
      "train:  1.5545424465932007 test:  2.043682496688447\n",
      "train:  1.5055789822881849 test:  1.9986169445979831\n",
      "train:  1.4574887244775208 test:  1.9544164953367238\n",
      "train:  1.4103356913082543 test:  1.911143908309111\n",
      "train:  1.3641849513762838 test:  1.8688628215258198\n",
      "train:  1.3191017348887493 test:  1.8276368552783624\n",
      "train:  1.2751504183741083 test:  1.7875285937473928\n",
      "train:  1.2323934091911646 test:  1.748598471761214\n",
      "train:  1.1908899670763402 test:  1.710903604709208\n",
      "train:  1.1506950095087036 test:  1.6744966088518045\n",
      "train:  1.1118579543507778 test:  1.6394244655607364\n",
      "train:  1.07442165580601 test:  1.605727485172904\n",
      "train:  1.0384214874338156 test:  1.57343842340773\n",
      "train:  1.003884618650098 test:  1.5425817956003784\n",
      "train:  0.9708295194281096 test:  1.5131734219977755\n",
      "train:  0.9392657130855518 test:  1.485220222364487\n",
      "train:  0.9091937808322617 test:  1.4587202618956099\n",
      "train:  0.8806056060256378 test:  1.4336630347943\n",
      "train:  0.8534848325108393 test:  1.41002995849351\n",
      "train:  0.8278075012282311 test:  1.387795041573499\n",
      "train:  0.8035428230763245 test:  1.366925682540689\n",
      "train:  0.7806540438502989 test:  1.3473835547847304\n",
      "train:  0.7590993584653377 test:  1.3291255347256574\n",
      "train:  0.7388328358270393 test:  1.3121046345899767\n",
      "train:  0.7198053216946192 test:  1.2962709074685177\n",
      "train:  0.7019652937830331 test:  1.2815722993904033\n",
      "train:  0.6852596503868902 test:  1.2679554303147345\n",
      "train:  0.6696344203938482 test:  1.2553662926082982\n",
      "train:  0.6550353883058828 test:  1.243750861366241\n",
      "train:  0.641408632607829 test:  1.2330556156537744\n",
      "train:  0.6287009794673372 test:  1.223227973361157\n",
      "train:  0.6168603763777118 test:  1.2142166449376588\n",
      "train:  0.6058361920881428 test:  1.205971912933256\n",
      "train:  0.5955794501582921 test:  1.1984458451897273\n",
      "train:  0.586043003885572 test:  1.1915924498506951\n",
      "train:  0.5771816603328219 test:  1.1853677802567864\n",
      "train:  0.5689522608612594 test:  1.1797299973906439\n",
      "train:  0.5613137250552633 test:  1.1746393969462834\n",
      "train:  0.5542270642954502 test:  1.170058407403421\n",
      "train:  0.5476553705572578 test:  1.1659515647533043\n",
      "train:  0.5415637853285886 test:  1.1622854687930984\n",
      "train:  0.5359194528821695 test:  1.1590287252108649\n",
      "train:  0.5306914615250472 test:  1.156151877040883\n",
      "train:  0.525850775889528 test:  1.1536273284890766\n",
      "train:  0.521370162831281 test:  1.1514292636141907\n",
      "train:  0.5172241130615395 test:  1.149533561901317\n",
      "train:  0.5133887602588747 test:  1.1479177123770958\n",
      "train:  0.5098417990778399 test:  1.1465607275855003\n",
      "train:  0.5065624031919411 test:  1.1454430584637953\n",
      "train:  0.5035311442716617 test:  1.1445465109242225\n",
      "train:  0.5007299125994411 test:  1.1438541647523577\n",
      "train:  0.49814183985762583 test:  1.1433502952725374\n",
      "train:  0.4957512244879366 test:  1.1430202980992665\n"
     ]
    },
    {
     "data": {
      "text/plain": [
       "[<matplotlib.lines.Line2D at 0x7f7fa435c208>]"
      ]
     },
     "execution_count": 40,
     "metadata": {},
     "output_type": "execute_result"
    },
    {
     "data": {
      "image/png": "[encoded data removed]",
      "text/plain": [
       "<Figure size 432x288 with 1 Axes>"
      ]
     },
     "metadata": {},
     "output_type": "display_data"
    }
   ],
   "source": [
    "rate = 1e-3\n",
    "reg = 1e-2\n",
    "lr = LogisticRegression(x_train, y_train, rate, reg)\n",
    "\n",
    "x1 = np.linspace(0,20)\n",
    "\n",
    "cost_train = []\n",
    "cost_test = []\n",
    "for i in range(100):\n",
    "    yhat_train = lr.forward_prob(x_train)\n",
    "    c_train = lr.cost(y_train, yhat_train)\n",
    "    yhat_test = lr.forward_prob(x_test)\n",
    "    c_test = lr.cost(y_train, yhat_test)\n",
    "    print('train: ', c_train, 'test: ', c_test)\n",
    "    \n",
    "    cost_train.append(c_train)\n",
    "    cost_test.append(c_test)\n",
    "    \n",
    "    lr.update()\n",
    "\n",
    "plt.plot(cost_train)\n",
    "plt.plot(cost_test)"
   ]
  },
  {
   "cell_type": "code",
   "execution_count": null,
   "metadata": {},
   "outputs": [],
   "source": []
  },
  {
   "cell_type": "code",
   "execution_count": 41,
   "metadata": {},
   "outputs": [
    {
     "data": {
      "text/plain": [
       "[<matplotlib.lines.Line2D at 0x7f7fa433ba58>]"
      ]
     },
     "execution_count": 41,
     "metadata": {},
     "output_type": "execute_result"
    },
    {
     "data": {
      "image/png": "[encoded data removed]",
      "text/plain": [
       "<Figure size 432x288 with 1 Axes>"
      ]
     },
     "metadata": {},
     "output_type": "display_data"
    }
   ],
   "source": [
    "x1 = np.linspace(5,14)\n",
    "x2 = (-1/lr.w[1,0]) * (lr.b + lr.w[0,0]*x1)\n",
    "\n",
    "for i in range(len_train):\n",
    "    if(y_train[0,i] == 1):\n",
    "        plt.scatter(x_train[0,i], x_train[1,i], color='red')\n",
    "    elif(y_train[0,i] == 0):\n",
    "        plt.scatter(x_train[0,i], x_train[1,i], color='blue')\n",
    "plt.plot(x1,x2)"
   ]
  },
  {
   "cell_type": "code",
   "execution_count": null,
   "metadata": {},
   "outputs": [],
   "source": []
  },
  {
   "cell_type": "code",
   "execution_count": null,
   "metadata": {},
   "outputs": [],
   "source": []
  },
  {
   "cell_type": "code",
   "execution_count": null,
   "metadata": {},
   "outputs": [],
   "source": []
  },
  {
   "cell_type": "code",
   "execution_count": null,
   "metadata": {},
   "outputs": [],
   "source": []
  },
  {
   "cell_type": "code",
   "execution_count": null,
   "metadata": {},
   "outputs": [],
   "source": []
  },
  {
   "cell_type": "code",
   "execution_count": null,
   "metadata": {},
   "outputs": [],
   "source": []
  },
  {
   "cell_type": "code",
   "execution_count": null,
   "metadata": {},
   "outputs": [],
   "source": []
  },
  {
   "cell_type": "code",
   "execution_count": null,
   "metadata": {},
   "outputs": [],
   "source": []
  },
  {
   "cell_type": "code",
   "execution_count": null,
   "metadata": {},
   "outputs": [],
   "source": []
  },
  {
   "cell_type": "code",
   "execution_count": null,
   "metadata": {},
   "outputs": [],
   "source": []
  },
  {
   "cell_type": "code",
   "execution_count": null,
   "metadata": {},
   "outputs": [],
   "source": []
  },
  {
   "cell_type": "code",
   "execution_count": null,
   "metadata": {},
   "outputs": [],
   "source": []
  },
  {
   "cell_type": "code",
   "execution_count": null,
   "metadata": {},
   "outputs": [],
   "source": []
  },
  {
   "cell_type": "code",
   "execution_count": null,
   "metadata": {},
   "outputs": [],
   "source": []
  }
 ],
 "metadata": {
  "kernelspec": {
   "display_name": "Python 3",
   "language": "python",
   "name": "python3"
  },
  "language_info": {
   "codemirror_mode": {
    "name": "ipython",
    "version": 3
   },
   "file_extension": ".py",
   "mimetype": "text/x-python",
   "name": "python",
   "nbconvert_exporter": "python",
   "pygments_lexer": "ipython3",
   "version": "3.5.2"
  }
 },
 "nbformat": 4,
 "nbformat_minor": 2
}
